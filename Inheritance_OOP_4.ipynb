{
  "nbformat": 4,
  "nbformat_minor": 0,
  "metadata": {
    "colab": {
      "provenance": [],
      "mount_file_id": "1vZdM2ORNuJ-JjGxWrqt94OmEh8f5cAyR",
      "authorship_tag": "ABX9TyOQjzlsO9aVJeeoIQ3zV+Eq",
      "include_colab_link": true
    },
    "kernelspec": {
      "name": "python3",
      "display_name": "Python 3"
    },
    "language_info": {
      "name": "python"
    }
  },
  "cells": [
    {
      "cell_type": "markdown",
      "metadata": {
        "id": "view-in-github",
        "colab_type": "text"
      },
      "source": [
        "<a href=\"https://colab.research.google.com/github/alwanrahmanas/OOP-Python/blob/main/Inheritance_OOP_4.ipynb\" target=\"_parent\"><img src=\"https://colab.research.google.com/assets/colab-badge.svg\" alt=\"Open In Colab\"/></a>"
      ]
    },
    {
      "cell_type": "markdown",
      "source": [
        "# What is Inheritance\n",
        "\n",
        "Inheritance is a fundamental concept in Object-Oriented Programming (OOP) that allows a new class (called a derived class or subclass) to inherit properties and behaviors (methods) from an existing class (called a base class or superclass). Inheritance facilitates code reuse and promotes a hierarchical relationship among classes, where subclasses can extend or specialize the functionality of their parent classes. <br>\n",
        "\n",
        "You don’t always have to start from scratch when writing a class. If the class\n",
        "you’re writing is a specialized version of another class you wrote, you can\n",
        "use inheritance. When one class inherits from another, it automatically takes\n",
        "on all the attributes and methods of the first class. The original class is\n",
        "called the parent class, and the new class is the child class. The child class\n",
        "inherits every attribute and method from its parent class but is also free to\n",
        "define new attributes and methods of its own."
      ],
      "metadata": {
        "id": "RMk8-D4lNmwN"
      }
    },
    {
      "cell_type": "markdown",
      "source": [
        "Key Concepts:\n",
        "\n",
        "\n",
        "1.   Superclass/Base Class/Parent Class:\n",
        "The existing class from which properties and behaviors are inherited is called the superclass, base class, or parent class.\n",
        "It serves as a template or blueprint for creating subclasses.\n",
        "\n",
        "2.   Subclass/Derived Class/Child Class:\n",
        "The new class that inherits properties and behaviors from a superclass is called the subclass, derived class, or child class.\n",
        "It can extend the functionality of the superclass by adding new methods or overriding existing ones.\n",
        "\n",
        "3. Inheritance Hierarchy:\n",
        "Inheritance relationships form a hierarchical structure where subclasses inherit from their immediate superclass, which may itself inherit from another superclass.\n",
        "This hierarchy allows for the organization and categorization of classes based on their similarities and differences.*italicised text*\n",
        "\n",
        "\n",
        "\n",
        "\n",
        "\n",
        "\n",
        "\n",
        "\n"
      ],
      "metadata": {
        "id": "U435ANGbNv-8"
      }
    },
    {
      "cell_type": "code",
      "execution_count": 27,
      "metadata": {
        "id": "2ObhA8NMNiOc"
      },
      "outputs": [],
      "source": [
        "class Car:\n",
        "    \"\"\"A simple class representing a car.\"\"\"\n",
        "\n",
        "    def __init__(self, make, model, year):\n",
        "        \"\"\"Initialize attributes to describe a car.\"\"\"\n",
        "        self.make = make\n",
        "        self.model = model\n",
        "        self.year = year\n",
        "        self.odometer_reading = 0\n",
        "        self.gas_tank = 0\n",
        "\n",
        "    def get_descriptive_name(self):\n",
        "        \"\"\"Return a neatly formatted descriptive name.\"\"\"\n",
        "        long_name = f\"{self.year} {self.make} {self.model}\"\n",
        "        return long_name.title()\n",
        "\n",
        "    def read_odometer(self):\n",
        "        \"\"\"Print the car's mileage.\"\"\"\n",
        "        print(f\"This car has {self.odometer_reading} miles on it.\")\n",
        "\n",
        "    def update_odometer(self, mileage):\n",
        "        \"\"\"\n",
        "        Update the odometer reading.\n",
        "        Reject the change if it attempts to roll the odometer back.\n",
        "        \"\"\"\n",
        "        if mileage >= self.odometer_reading:\n",
        "            self.odometer_reading = mileage\n",
        "        else:\n",
        "            print(\"You can't roll back an odometer!\")\n",
        "\n",
        "    def increment_odometer(self, miles):\n",
        "        \"\"\"Add the given amount to the odometer reading.\"\"\"\n",
        "        self.odometer_reading += miles\n",
        "\n",
        "    def fill_gas_tank(self,num):\n",
        "        \"\"\"Add the method to fill gas tank.\"\"\"\n",
        "        self.gas_tank =+ num\n"
      ]
    },
    {
      "cell_type": "markdown",
      "source": [
        "The super() function is a special function that helps Python make\n",
        "connections between the parent and child class. This line tells Python to\n",
        "call the __init__() method from ElectricCar’s parent class, which gives an\n",
        "ElectricCar instance all the attributes of its parent class. The name super\n",
        "comes from a convention of calling the parent class a superclass and the\n",
        "child class a subclass.\n",
        "We test whether inh"
      ],
      "metadata": {
        "id": "lFotGvQ4P24W"
      }
    },
    {
      "cell_type": "code",
      "source": [
        "# Inheritance of class Car named ElectriCar\n",
        "\n",
        "class ElectricCar(Car):\n",
        "\n",
        "  def __init__(self, make, model, year):\n",
        "    super().__init__(make, model, year)\n",
        "    self.battery = Battery()  # Initialize an instance of Battery class\n",
        "                              # battery now is an object/instance\n",
        "\n",
        "  def describe_battery(self):\n",
        "    print(\"This car has a \" + str(self.battery.battery_size) + \"-kWh battery.\")\n",
        "\n",
        "  def fill_gas_tank(self):\n",
        "    print(\"Electric Car doesn't need a gas tank!\")"
      ],
      "metadata": {
        "id": "IXM5TWVhOnLF"
      },
      "execution_count": 28,
      "outputs": []
    },
    {
      "cell_type": "code",
      "source": [
        "my_tesla = ElectricCar('Tesla','model S',2015)\n",
        "\n",
        "# If there was an error, run class Battery() first"
      ],
      "metadata": {
        "id": "GOVRJ3TyPCGu"
      },
      "execution_count": 29,
      "outputs": []
    },
    {
      "cell_type": "code",
      "source": [
        "my_tesla.get_descriptive_name()"
      ],
      "metadata": {
        "colab": {
          "base_uri": "https://localhost:8080/",
          "height": 35
        },
        "id": "1GT0ORvgPsuW",
        "outputId": "9e984635-bdf2-48cb-f696-7a0ec057a40e"
      },
      "execution_count": 30,
      "outputs": [
        {
          "output_type": "execute_result",
          "data": {
            "text/plain": [
              "'2015 Tesla Model S'"
            ],
            "application/vnd.google.colaboratory.intrinsic+json": {
              "type": "string"
            }
          },
          "metadata": {},
          "execution_count": 30
        }
      ]
    },
    {
      "cell_type": "code",
      "source": [
        "my_tesla.describe_battery()"
      ],
      "metadata": {
        "colab": {
          "base_uri": "https://localhost:8080/"
        },
        "id": "wC5nr99oi2eH",
        "outputId": "dc177b7b-2461-4f3f-9775-2322f8a81c2c"
      },
      "execution_count": 31,
      "outputs": [
        {
          "output_type": "stream",
          "name": "stdout",
          "text": [
            "This car has a 70-kWh battery.\n"
          ]
        }
      ]
    },
    {
      "cell_type": "code",
      "source": [
        "# Or you can do\n",
        "my_tesla.battery.describe_battery()\n",
        "# It access method describe_battery on object self.battery in class ElectricCar"
      ],
      "metadata": {
        "colab": {
          "base_uri": "https://localhost:8080/"
        },
        "id": "fbN7bs8_oxCY",
        "outputId": "a9770aa6-59a0-4602-8084-e037b33fa38d"
      },
      "execution_count": 32,
      "outputs": [
        {
          "output_type": "stream",
          "name": "stdout",
          "text": [
            "Battery size is 70\n"
          ]
        }
      ]
    },
    {
      "cell_type": "markdown",
      "source": [
        "## Overriding Methods from the Parent Class\n",
        "\n",
        "You can override any method from the parent class that doesn’t fit what\n",
        "you’re trying to model with the child class. To do this, you define a method\n",
        "in the child class with the same name as the method you want to override\n",
        "in the parent class. Python will disregard the parent class method and only\n",
        "pay attention to the method you define in the child class"
      ],
      "metadata": {
        "id": "7EmBykwFjMU_"
      }
    },
    {
      "cell_type": "code",
      "source": [
        "# I added this method to child class ElectriCar and parent Car\n",
        "\n",
        "\"\"\"def fill_gas_tank():\n",
        "  print(\"Electric Car doesn't need a gas tank!\")\"\"\""
      ],
      "metadata": {
        "colab": {
          "base_uri": "https://localhost:8080/",
          "height": 35
        },
        "id": "40jzs_10jK7n",
        "outputId": "22eb2526-68ce-4131-e260-0aa06aa01f4f"
      },
      "execution_count": 33,
      "outputs": [
        {
          "output_type": "execute_result",
          "data": {
            "text/plain": [
              "'def fill_gas_tank():\\n  print(\"Electric Car doesn\\'t need a gas tank!\")'"
            ],
            "application/vnd.google.colaboratory.intrinsic+json": {
              "type": "string"
            }
          },
          "metadata": {},
          "execution_count": 33
        }
      ]
    },
    {
      "cell_type": "code",
      "source": [
        "my_tesla.fill_gas_tank()"
      ],
      "metadata": {
        "colab": {
          "base_uri": "https://localhost:8080/"
        },
        "id": "nljblJCDjvyr",
        "outputId": "f7884bde-9806-44e3-9cc0-248147439f63"
      },
      "execution_count": 34,
      "outputs": [
        {
          "output_type": "stream",
          "name": "stdout",
          "text": [
            "Electric Car doesn't need a gas tank!\n"
          ]
        }
      ]
    },
    {
      "cell_type": "markdown",
      "source": [
        "## Instances as Attributes\n",
        "\n",
        "When modeling something from the real world in code, you may find that\n",
        "you’re adding more and more detail to a class. You’ll find that you have a\n",
        "growing list of attributes and methods and that your files are becoming\n",
        "lengthy. In these situations, you might recognize that part of one class can\n",
        "be written as a separate class. You can break your large class into smaller\n",
        "classes that work together.\n",
        "For example, if we continue adding detail to the ElectricCar class, we\n",
        "might notice that we’re adding many attributes and methods specific to\n",
        "the car’s battery. When we see this happening, we can stop and move those\n",
        "attributes and methods to a separate class called Battery. Then we can use a\n",
        "Battery instance as an attribute in the ElectricCar class:"
      ],
      "metadata": {
        "id": "XHD-AvN7l_ZP"
      }
    },
    {
      "cell_type": "code",
      "source": [
        "class Battery():\n",
        "\n",
        "  def __init__(self,battery_size=70):\n",
        "    self.battery_size=battery_size\n",
        "\n",
        "  def describe_battery(self):\n",
        "    print(f\"Battery size is {self.battery_size}\")\n",
        "  #I change Battery attribute in class ElectricCar so 'battery' attribute in ElectricCar is an object\n",
        "\n",
        "  def get_range(self):\n",
        "    if self.battery_size == 70:\n",
        "      range = 240\n",
        "    elif self.battery_size == 85:\n",
        "      range = 270\n",
        "    message = \"This car can go approximately \" + str(range)\n",
        "    message += \" miles on a full charge\"\n",
        "    print(message)"
      ],
      "metadata": {
        "id": "faQAliKJmFS3"
      },
      "execution_count": 35,
      "outputs": []
    },
    {
      "cell_type": "code",
      "source": [
        "# I added method get_range(self) in class Battery()\n",
        "\n",
        "\"\"\"def get_range(self):\n",
        "    if self.battery_size == 70:\n",
        "      range = 240\n",
        "    elif self.battery_size == 85:\n",
        "      range = 270\n",
        "\n",
        "    message = \"This car can go approximately \" + str(range)\n",
        "    message += \" miles on a full charge.\"\n",
        "    print(message)\"\"\""
      ],
      "metadata": {
        "colab": {
          "base_uri": "https://localhost:8080/",
          "height": 52
        },
        "id": "etpdWeduqX5s",
        "outputId": "86a75983-dfe1-4dd4-b25c-22e99ccfea88"
      },
      "execution_count": 36,
      "outputs": [
        {
          "output_type": "execute_result",
          "data": {
            "text/plain": [
              "'def get_range(self):\\n    if self.battery_size == 70:\\n      range = 240\\n    elif self.battery_size == 85:\\n      range = 270\\n    \\n    message = \"This car can go approximately \" + str(range)\\n    message += \" miles on a full charge.\"\\n    print(message)'"
            ],
            "application/vnd.google.colaboratory.intrinsic+json": {
              "type": "string"
            }
          },
          "metadata": {},
          "execution_count": 36
        }
      ]
    },
    {
      "cell_type": "code",
      "source": [
        "my_tesla.battery.get_range()"
      ],
      "metadata": {
        "colab": {
          "base_uri": "https://localhost:8080/"
        },
        "id": "90yAatpRrRQG",
        "outputId": "66b858fc-2536-452f-9a55-299207f98e58"
      },
      "execution_count": 37,
      "outputs": [
        {
          "output_type": "stream",
          "name": "stdout",
          "text": [
            "This car can go approximately 240 miles on a full charge\n"
          ]
        }
      ]
    },
    {
      "cell_type": "markdown",
      "source": [
        "# Modeling a Real-World Objects\n",
        "\n",
        "As you begin to model more complicated items like electric cars, you’ll\n",
        "wrestle with interesting questions. Is the range of an electric car a property\n",
        "of the battery or of the car? If we’re only describing one car, it’s probably\n",
        "fine to maintain the association of the method get_range() with the Battery\n",
        "class. But if we’re describing a manufacturer’s entire line of cars, we proba\u0002bly want to move get_range() to the ElectricCar class. The get_range() method would still check the battery size before determining the range, but it would\n",
        "report a range specific to the kind of car it’s associated with. Alternatively,\n",
        "we could maintain the association of the get_range() method with the bat\u0002tery but pass it a parameter such as car_model. The get_range() method would\n",
        "then report a range based on the battery size and car model.\n",
        "This brings you to an interesting point in your growth as a program\u0002mer. When you wrestle with questions like these, you’re thinking at a higher\n",
        "logical level rather than a syntax-focused level. You’re thinking not about\n",
        "Python, but about how to represent the real world in code. When you reach\n",
        "this point, you’ll realize there are often no right or wrong approaches to\n",
        "modeling real-world situations. Some approaches are more efficient than\n",
        "others, but it takes practice to find the most efficient representations. If\n",
        "your code is working as you want it to, you’re doing well! Don’t be discour\u0002aged if you find you’re ripping apart your classes and rewriting them several\n",
        "times using different approaches. In the quest to write accurate, efficient\n",
        "code, everyone goes through this process"
      ],
      "metadata": {
        "id": "xeB3iWnsrlQK"
      }
    },
    {
      "cell_type": "markdown",
      "source": [
        "## Try it yourself"
      ],
      "metadata": {
        "id": "rbU0TTKrrzOJ"
      }
    },
    {
      "cell_type": "markdown",
      "source": [
        "9-6. Ice Cream Stand: An ice cream stand is a specific kind of restaurant. Write\n",
        "a class called IceCreamStand that inherits from the Restaurant class you wrote\n",
        "in Exercise 9-1 (page 166) or Exercise 9-4 (page 171). Either version of\n",
        "the class will work; just pick the one you like better. Add an attribute called\n",
        "flavors that stores a list of ice cream flavors. Write a method that displays\n",
        "these flavors. Create an instance of IceCreamStand, and call this method."
      ],
      "metadata": {
        "id": "AQGKawZUr3_5"
      }
    },
    {
      "cell_type": "code",
      "source": [
        "class Restaurant():\n",
        "\n",
        "  def __init__(self,name,cuisine):\n",
        "    self.name = name\n",
        "    self.cuisine =  cuisine\n",
        "    self.number_served = 0\n",
        "\n",
        "  def describe_restaurant(self):\n",
        "    print(f\"The name of the restaurant is {self.name.title()}\")\n",
        "    print(f\"The name of the cuisine is {self.cuisine.title()}\")\n",
        "\n",
        "  def open_restaurant(self):\n",
        "    print(\"The restaurant is open yet!\")\n",
        "\n",
        "  def greeting(self, target):\n",
        "    print(f\"Hello {target.fn}!\")\n",
        "\n",
        "  def update_describe(self, name,cuisine):\n",
        "\n",
        "    self.name = name\n",
        "    self.cuisine = cuisine\n",
        "\n",
        "  def set_number_served(self,num):\n",
        "    self.number_served = num\n",
        "    print(f\"The number of customers that have been served is {self.number_served}\")\n",
        "\n",
        "  def increment_number_served(self,num):\n",
        "    self.number_served = self.number_served + num\n",
        "    print(f\"The increasing number of customers that have been served is {num}\")\n",
        "    print(f\"The number of customers that have been served is {self.number_served}\")\n"
      ],
      "metadata": {
        "id": "3I9NHVx7r8uF"
      },
      "execution_count": 38,
      "outputs": []
    },
    {
      "cell_type": "code",
      "source": [
        "class IceCreamStand(Restaurant):\n",
        "    def __init__(self, name, cuisine, flavor):\n",
        "        super().__init__(name, cuisine)\n",
        "        self.flavors = flavor\n",
        "\n",
        "\n",
        "    def display_flavors(self):\n",
        "        print(\"Available Flavors:\")\n",
        "        [print(f) for f in self.flavors]\n"
      ],
      "metadata": {
        "id": "B2MPT-qCPs_x"
      },
      "execution_count": 39,
      "outputs": []
    },
    {
      "cell_type": "code",
      "source": [
        "ice_cream_stand = IceCreamStand(\"Cool Treats\", \"Ice Cream Parlor\", [\"Vanilla\",'Choco',\"Banana\"])\n",
        "# ice_cream_stand.add_flavor(\"Chocolate\")\n",
        "# ice_cream_stand.add_flavor(\"Strawberry\")\n",
        "ice_cream_stand.display_flavors()"
      ],
      "metadata": {
        "colab": {
          "base_uri": "https://localhost:8080/"
        },
        "id": "vTgV9tbNSDdr",
        "outputId": "abf7eefb-825c-4ab7-bd8e-f0caf30a6a30"
      },
      "execution_count": 40,
      "outputs": [
        {
          "output_type": "stream",
          "name": "stdout",
          "text": [
            "Available Flavors:\n",
            "Vanilla\n",
            "Choco\n",
            "Banana\n"
          ]
        }
      ]
    },
    {
      "cell_type": "markdown",
      "source": [
        "9-7. Admin: An administrator is a special kind of user. Write a class called\n",
        "Admin that inherits from the User class you wrote in Exercise 9-3 (page 166)\n",
        "or Exercise 9-5 (page 171). Add an attribute, privileges, that stores a list\n",
        "of strings like \"can add post\", \"can delete post\", \"can ban user\", and so on.\n",
        "Write a method called show_privileges() that lists the administrator’s set of\n",
        "privileges. Create an instance of Admin, and call your method"
      ],
      "metadata": {
        "id": "WEO8_3AoTiLW"
      }
    },
    {
      "cell_type": "code",
      "source": [
        "class Users():\n",
        "\n",
        "  def __init__(self, fn,ln):\n",
        "    self.first_name = fn\n",
        "    self.last_name = ln\n",
        "    self.login_attempts = 1\n",
        "\n",
        "  def describe_user(self):\n",
        "    print(self.fn.title()+self.ln.title())\n",
        "\n",
        "  def greeting(self,target):\n",
        "    print(f\"Hello {target.first_name.title()}, my name is {self.first_name.title()}!\")\n",
        "\n",
        "  def increment_login_attempt(self):\n",
        "    self.login_attempts+=1\n",
        "\n",
        "  def reset_login_attempt(self):\n",
        "    self.login_attempts=0\n",
        "\n",
        ""
      ],
      "metadata": {
        "id": "Lv0SiI9LTkB4"
      },
      "execution_count": 41,
      "outputs": []
    },
    {
      "cell_type": "code",
      "source": [
        "class Admin(Users):\n",
        "\n",
        "  def __init__(self,fn,ln,privileges):\n",
        "    super().__init__(fn,ln)\n",
        "    priv = Priveleges(privileges)\n",
        "    self.privileges = priv\n",
        "\n",
        "  def show_privileges(self):\n",
        "    self.privileges.show_privileges()"
      ],
      "metadata": {
        "id": "IuY2GGvHT7EY"
      },
      "execution_count": 42,
      "outputs": []
    },
    {
      "cell_type": "code",
      "source": [
        "# Creating an instance of Admin class\n",
        "admin = Admin(\"John\", \"Doe\", [\"create user\", \"delete user\", \"edit profile\"])\n",
        "admin.show_privileges()"
      ],
      "metadata": {
        "colab": {
          "base_uri": "https://localhost:8080/"
        },
        "id": "jQhm0KPMU7OM",
        "outputId": "f696aa13-6e94-4f25-e9de-b699263b212f"
      },
      "execution_count": 43,
      "outputs": [
        {
          "output_type": "stream",
          "name": "stdout",
          "text": [
            "Available Privileges:\n",
            "Create User\n",
            "Delete User\n",
            "Edit Profile\n"
          ]
        }
      ]
    },
    {
      "cell_type": "markdown",
      "source": [
        "9-8. Privileges: Write a separate Privileges class. The class should have one\n",
        "attribute, privileges, that stores a list of strings as described in Exercise 9-7.\n",
        "Move the show_privileges() method to this class. Make a Privileges instance\n",
        "as an attribute in the Admin class. Create a new instance of Admin and use your\n",
        "method to show its privileges"
      ],
      "metadata": {
        "id": "mj2F7kdqVB6V"
      }
    },
    {
      "cell_type": "code",
      "source": [
        "class Priveleges():\n",
        "\n",
        "  def __init__(self,privileges):\n",
        "    self.privileges = privileges\n",
        "\n",
        "  def show_privileges(self):\n",
        "    print(\"Available Privileges:\")\n",
        "    [print(p.title()) for p in self.privileges]"
      ],
      "metadata": {
        "id": "aJHRj5drVEsl"
      },
      "execution_count": 44,
      "outputs": []
    }
  ]
}