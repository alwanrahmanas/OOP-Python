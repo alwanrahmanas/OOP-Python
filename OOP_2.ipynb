{
  "nbformat": 4,
  "nbformat_minor": 0,
  "metadata": {
    "colab": {
      "provenance": [],
      "authorship_tag": "ABX9TyPySUnbkbsRxNH6dLgAqcV5"
    },
    "kernelspec": {
      "name": "python3",
      "display_name": "Python 3"
    },
    "language_info": {
      "name": "python"
    }
  },
  "cells": [
    {
      "cell_type": "markdown",
      "source": [
        "9-1. Restaurant: Make a class called Restaurant. The __init__() method for\n",
        "Restaurant should store two attributes: a restaurant_name and a cuisine_type.\n",
        "Make a method called describe_restaurant() that prints these two pieces of\n",
        "information, and a method called open_restaurant() that prints a message indicating that the restaurant is open."
      ],
      "metadata": {
        "id": "IkBGtDOoEawE"
      }
    },
    {
      "cell_type": "code",
      "source": [
        "class Restaurant():\n",
        "\n",
        "  def __init__(self,name,cuisine):\n",
        "    self.name = name\n",
        "    self.cuisine =  cuisine\n",
        "\n",
        "  def describe_restaurant(self):\n",
        "    print(f\"The name of the restaurant is {self.name.title()}\")\n",
        "    print(f\"The name of the cuisine is {self.cuisine.title()}\")\n",
        "\n",
        "  def open_restaurant(self):\n",
        "    print(\"The restaurant is open yet!\")\n",
        "\n",
        "  def greeting(self, target):\n",
        "    print(f\"Hello {target.fn}!\")\n",
        "\n",
        "  def update_describe(self, name,cuisine):\n",
        "\n",
        "    self.name = name\n",
        "    self.cuisine = cuisine\n",
        "\n",
        "\n",
        "\n"
      ],
      "metadata": {
        "id": "SpzWJtZ9EUq8"
      },
      "execution_count": 23,
      "outputs": []
    },
    {
      "cell_type": "code",
      "source": [
        "kk = Restaurant(\"Krusty Krab\",\"Krabby Patty\")\n",
        "\n",
        "kk.describe_restaurant()\n"
      ],
      "metadata": {
        "colab": {
          "base_uri": "https://localhost:8080/"
        },
        "id": "tfr8CCpKFKkL",
        "outputId": "6b48295f-c56f-4d00-b272-d2108e40a4ad"
      },
      "execution_count": 24,
      "outputs": [
        {
          "output_type": "stream",
          "name": "stdout",
          "text": [
            "The name of the restaurant is Krusty Krab\n",
            "The name of the cuisine is Krabby Patty\n"
          ]
        }
      ]
    },
    {
      "cell_type": "code",
      "source": [
        "kk.open_restaurant()"
      ],
      "metadata": {
        "colab": {
          "base_uri": "https://localhost:8080/"
        },
        "id": "6K1k_3ZDFOOX",
        "outputId": "1d3becf6-e5a4-4ccf-952f-cf4859cb9649"
      },
      "execution_count": 17,
      "outputs": [
        {
          "output_type": "stream",
          "name": "stdout",
          "text": [
            "The restaurant is open yet!\n"
          ]
        }
      ]
    },
    {
      "cell_type": "markdown",
      "source": [
        "9-2. Three Restaurants: Start with your class from Exercise 9-1. Create three\n",
        "different instances from the class, and call describe_restaurant() for each\n",
        "instance."
      ],
      "metadata": {
        "id": "WWYK8EtZFgmr"
      }
    },
    {
      "cell_type": "code",
      "source": [
        "ll = Restaurant(\"Chum Bucket\",\"Chum Stick\")\n",
        "mm = Restaurant(\"Winnie Hut Jr.\",\"Winnie Hotdog\")"
      ],
      "metadata": {
        "id": "Z3ozgpDZFjKy"
      },
      "execution_count": 18,
      "outputs": []
    },
    {
      "cell_type": "markdown",
      "source": [
        "9-3. Users: Make a class called User. Create two attributes called first_name\n",
        "and last_name, and then create several other attributes that are typically stored\n",
        "in a user profile. Make a method called describe_user() that prints a summary\n",
        "of the user’s information. Make another method called greet_user() that prints\n",
        "a personalized greeting to the user <br>\n",
        "\n",
        "I updated the method in Restaurant"
      ],
      "metadata": {
        "id": "ne-WT3HIFy50"
      }
    },
    {
      "cell_type": "code",
      "source": [
        "class Users():\n",
        "\n",
        "  def __init__(self, first_name,last_name):\n",
        "    self.fn = first_name\n",
        "    self.ln = last_name\n",
        "\n",
        "  def describe_user(self):\n",
        "    print(self.fn.title()+self.ln.title())\n",
        "\n",
        ""
      ],
      "metadata": {
        "id": "cnhMGG21Fxm8"
      },
      "execution_count": 12,
      "outputs": []
    },
    {
      "cell_type": "code",
      "source": [
        "aa = Users(\"alwan\",\"rahmana\")"
      ],
      "metadata": {
        "id": "3mkH0GA7Gk_L"
      },
      "execution_count": 13,
      "outputs": []
    },
    {
      "cell_type": "markdown",
      "source": [
        "updating through attribute"
      ],
      "metadata": {
        "id": "fBo3bGhTHcyy"
      }
    },
    {
      "cell_type": "code",
      "source": [
        "kk.name = \"Fuck off\""
      ],
      "metadata": {
        "id": "lF-zmXZRHN-4"
      },
      "execution_count": 20,
      "outputs": []
    },
    {
      "cell_type": "markdown",
      "source": [
        "you can also updating through method, but you have to create update metod"
      ],
      "metadata": {
        "id": "5drDw5HpHg1w"
      }
    },
    {
      "cell_type": "code",
      "source": [
        "kk.update_describe(\"Kebab Kocak\",\"Kebab\")"
      ],
      "metadata": {
        "id": "WkeqBbbyHmr5"
      },
      "execution_count": 25,
      "outputs": []
    },
    {
      "cell_type": "code",
      "source": [
        "kk.describe_restaurant()"
      ],
      "metadata": {
        "colab": {
          "base_uri": "https://localhost:8080/"
        },
        "id": "YNf619ktH8tD",
        "outputId": "1ce46d88-7d10-458c-9dbb-26e6acbe0cc2"
      },
      "execution_count": 26,
      "outputs": [
        {
          "output_type": "stream",
          "name": "stdout",
          "text": [
            "The name of the restaurant is Kebab Kocak\n",
            "The name of the cuisine is Kebab\n"
          ]
        }
      ]
    }
  ]
}