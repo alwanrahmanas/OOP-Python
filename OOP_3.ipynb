{
  "nbformat": 4,
  "nbformat_minor": 0,
  "metadata": {
    "colab": {
      "provenance": [],
      "authorship_tag": "ABX9TyNxvckIc0T0HLC9jfL/Wk0V",
      "include_colab_link": true
    },
    "kernelspec": {
      "name": "python3",
      "display_name": "Python 3"
    },
    "language_info": {
      "name": "python"
    }
  },
  "cells": [
    {
      "cell_type": "markdown",
      "metadata": {
        "id": "view-in-github",
        "colab_type": "text"
      },
      "source": [
        "<a href=\"https://colab.research.google.com/github/alwanrahmanas/OOP-Python/blob/main/OOP%203.ipynb\" target=\"_parent\"><img src=\"https://colab.research.google.com/assets/colab-badge.svg\" alt=\"Open In Colab\"/></a>"
      ]
    },
    {
      "cell_type": "markdown",
      "source": [
        "9-4. Number Served: Start with your program from Exercise 9-1 (page 166).\n",
        "Add an attribute called number_served with a default value of 0. Create an\n",
        "instance called restaurant from this class. Print the number of customers the\n",
        "restaurant has served, and then change this value and print it again.\n",
        "Add a method called set_number_served() that lets you set the number\n",
        "of customers that have been served. Call this method with a new number and\n",
        "print the value again.\n",
        "Add a method called increment_number_served() that lets you increment\n",
        "the number of customers who’ve been served. Call this method with any number you like that could represent how many customers were served in, say, a\n",
        "day of business."
      ],
      "metadata": {
        "id": "CbKAbpCGFMhT"
      }
    },
    {
      "cell_type": "code",
      "execution_count": 6,
      "metadata": {
        "id": "tq0c4AoWIXA-"
      },
      "outputs": [],
      "source": [
        "class Restaurant():\n",
        "\n",
        "  def __init__(self,name,cuisine):\n",
        "    self.name = name\n",
        "    self.cuisine =  cuisine\n",
        "    self.number_served = 0\n",
        "\n",
        "  def describe_restaurant(self):\n",
        "    print(f\"The name of the restaurant is {self.name.title()}\")\n",
        "    print(f\"The name of the cuisine is {self.cuisine.title()}\")\n",
        "\n",
        "  def open_restaurant(self):\n",
        "    print(\"The restaurant is open yet!\")\n",
        "\n",
        "  def greeting(self, target):\n",
        "    print(f\"Hello {target.fn}!\")\n",
        "\n",
        "  def update_describe(self, name,cuisine):\n",
        "\n",
        "    self.name = name\n",
        "    self.cuisine = cuisine\n",
        "\n",
        "  def set_number_served(self,num):\n",
        "    self.number_served = num\n",
        "    print(f\"The number of customers that have been served is {self.number_served}\")\n",
        "\n",
        "  def increment_number_served(self,num):\n",
        "    self.number_served = self.number_served + num\n",
        "    print(f\"The increasing number of customers that have been served is {num}\")\n",
        "    print(f\"The number of customers that have been served is {self.number_served}\")\n"
      ]
    },
    {
      "cell_type": "code",
      "source": [
        "restaurant = Restaurant(\"warung coki\",\"ayam geprek\")"
      ],
      "metadata": {
        "id": "gRlphnEfF0kx"
      },
      "execution_count": 7,
      "outputs": []
    },
    {
      "cell_type": "code",
      "source": [
        "restaurant.set_number_served(23)\n",
        "restaurant.increment_number_served(5)"
      ],
      "metadata": {
        "colab": {
          "base_uri": "https://localhost:8080/"
        },
        "id": "Pp-cVwKnHITb",
        "outputId": "be3e3f57-466d-4d0e-d2d4-4b47b9cd26fe"
      },
      "execution_count": 8,
      "outputs": [
        {
          "output_type": "stream",
          "name": "stdout",
          "text": [
            "The number of customers that have been served is 23\n",
            "The increasing number of customers that have been served is 5\n",
            "The number of customers that have been served is 28\n"
          ]
        }
      ]
    },
    {
      "cell_type": "markdown",
      "source": [
        "9-5. Login Attempts: Add an attribute called login_attempts to your User\n",
        "class from Exercise 9-3 (page 166). Write a method called increment_\n",
        "login_attempts() that increments the value of login_attempts by 1. Write\n",
        "another method called reset_login_attempts() that resets the value of login_\n",
        "attempts to 0.\n",
        "Make an instance of the User class and call increment_login_attempts()\n",
        "several times. Print the value of login_attempts to make sure it was incremented\n",
        "properly, and then call reset_login_attempts(). Print login_attempts again to\n",
        "make sure it was reset to 0.\n"
      ],
      "metadata": {
        "id": "6rfgFGAcHkA3"
      }
    },
    {
      "cell_type": "code",
      "source": [
        "class Users():\n",
        "\n",
        "  def __init__(self, fn,ln):\n",
        "    self.first_name = fn\n",
        "    self.last_name = ln\n",
        "    self.login_attempts = 1\n",
        "\n",
        "  def describe_user(self):\n",
        "    print(self.fn.title()+self.ln.title())\n",
        "\n",
        "  def greeting(self,target):\n",
        "    print(f\"Hello {target.first_name.title()}, my name is {self.first_name.title()}!\")\n",
        "\n",
        "  def increment_login_attempt(self):\n",
        "    self.login_attempts+=1\n",
        "\n",
        "  def reset_login_attempt(self):\n",
        "    self.login_attempts=0\n",
        "\n",
        ""
      ],
      "metadata": {
        "id": "7CJ6C1aEHzBx"
      },
      "execution_count": 26,
      "outputs": []
    },
    {
      "cell_type": "code",
      "source": [
        "aa = Users(\"alwan\",\"rahmana\")\n",
        "bb = Users(\"dadang\",\"sudrajat\")"
      ],
      "metadata": {
        "id": "1rF55nvsI0Qy"
      },
      "execution_count": 27,
      "outputs": []
    },
    {
      "cell_type": "code",
      "source": [
        "aa.greeting(bb)"
      ],
      "metadata": {
        "colab": {
          "base_uri": "https://localhost:8080/"
        },
        "id": "X8pASY8eI8qH",
        "outputId": "e8ea4679-e2e1-43b0-cf79-1e05b41b10c9"
      },
      "execution_count": 25,
      "outputs": [
        {
          "output_type": "stream",
          "name": "stdout",
          "text": [
            "Hello Dadang, my name is Alwan\n"
          ]
        }
      ]
    },
    {
      "cell_type": "code",
      "source": [
        "aa.increment_login_attempt()"
      ],
      "metadata": {
        "id": "TMfOunQHJhSm"
      },
      "execution_count": 32,
      "outputs": []
    },
    {
      "cell_type": "code",
      "source": [
        "aa.login_attempts"
      ],
      "metadata": {
        "colab": {
          "base_uri": "https://localhost:8080/"
        },
        "id": "gTyH7WoLMxGv",
        "outputId": "b39c7f52-eba9-43ae-b320-40f031416267"
      },
      "execution_count": 35,
      "outputs": [
        {
          "output_type": "execute_result",
          "data": {
            "text/plain": [
              "0"
            ]
          },
          "metadata": {},
          "execution_count": 35
        }
      ]
    }
  ]
}
