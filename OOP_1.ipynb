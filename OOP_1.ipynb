{
  "nbformat": 4,
  "nbformat_minor": 0,
  "metadata": {
    "colab": {
      "provenance": [],
      "authorship_tag": "ABX9TyNKqka+PpV7XGSHjulBwr1v",
      "include_colab_link": true
    },
    "kernelspec": {
      "name": "python3",
      "display_name": "Python 3"
    },
    "language_info": {
      "name": "python"
    }
  },
  "cells": [
    {
      "cell_type": "markdown",
      "metadata": {
        "id": "view-in-github",
        "colab_type": "text"
      },
      "source": [
        "<a href=\"https://colab.research.google.com/github/alwanrahmanas/OOP-Python/blob/main/OOP_1.ipynb\" target=\"_parent\"><img src=\"https://colab.research.google.com/assets/colab-badge.svg\" alt=\"Open In Colab\"/></a>"
      ]
    },
    {
      "cell_type": "code",
      "source": [
        "from google.colab import drive\n",
        "drive.mount('/content/drive')"
      ],
      "metadata": {
        "colab": {
          "base_uri": "https://localhost:8080/"
        },
        "id": "VQyUmqQRm3E4",
        "outputId": "e2dff89f-e803-44bb-cb45-b527e2d8c027"
      },
      "execution_count": 1,
      "outputs": [
        {
          "output_type": "stream",
          "name": "stdout",
          "text": [
            "Mounted at /content/drive\n"
          ]
        }
      ]
    },
    {
      "cell_type": "code",
      "execution_count": 18,
      "metadata": {
        "colab": {
          "base_uri": "https://localhost:8080/"
        },
        "id": "3ZdVqSTMlL7D",
        "outputId": "0ecddfd3-6332-467a-9c65-cd14c1df60d5"
      },
      "outputs": [
        {
          "output_type": "stream",
          "name": "stdout",
          "text": [
            "        *\n",
            "       ***\n",
            "      *****\n",
            "     *******\n",
            "    *********\n",
            "   ***********\n",
            "  *************\n",
            " ***************\n",
            "*****************\n"
          ]
        }
      ],
      "source": [
        "i = 0\n",
        "while i < 9:\n",
        "    print(\" \" * (9 - i - 1) + \"*\" * (2 * i + 1))\n",
        "    i = i + 1\n"
      ]
    },
    {
      "cell_type": "code",
      "source": [
        "class Dog():\n",
        "  \"\"\" Simple class \"\"\"\n",
        "\n",
        "  def __init__(self, name, age):\n",
        "    # initialize name and age attr\n",
        "    self.name = name\n",
        "    self.age = age\n",
        "\n",
        "  def sit(self):\n",
        "    print(self.name.title()+\" is now sitting\")\n",
        "\n",
        "  def roll_over(self):\n",
        "    print(self.name.title() + \" rolled over!\")\n",
        ""
      ],
      "metadata": {
        "id": "v04t0nB94Kde"
      },
      "execution_count": 19,
      "outputs": []
    },
    {
      "cell_type": "code",
      "source": [
        "ajg = Dog(\"bleki\",2)\n",
        "\n",
        "ajg.sit()"
      ],
      "metadata": {
        "colab": {
          "base_uri": "https://localhost:8080/"
        },
        "id": "Kqz6QONVBVxU",
        "outputId": "28e1e197-c93c-4a22-f388-ac42fe23a093"
      },
      "execution_count": 23,
      "outputs": [
        {
          "output_type": "stream",
          "name": "stdout",
          "text": [
            "Bleki is now sitting\n"
          ]
        }
      ]
    },
    {
      "cell_type": "code",
      "source": [
        "ajg.__dict__"
      ],
      "metadata": {
        "colab": {
          "base_uri": "https://localhost:8080/"
        },
        "id": "WCiX_3duCMEF",
        "outputId": "dd181610-1f63-4d98-ba70-c9fe6040cb31"
      },
      "execution_count": 24,
      "outputs": [
        {
          "output_type": "execute_result",
          "data": {
            "text/plain": [
              "{'name': 'bleki', 'age': 2}"
            ]
          },
          "metadata": {},
          "execution_count": 24
        }
      ]
    },
    {
      "cell_type": "code",
      "source": [
        "class Hero:\n",
        "    def __init__(self, name, health, attack):\n",
        "        self.name = name\n",
        "        self.health = health\n",
        "        self.attack_power = attack\n",
        "\n",
        "    def attack(self, target):\n",
        "        print(f\"{self.name} attacks {target.name}!\")\n",
        "        # Reduce target's health by attacker's attack power\n",
        "        target.health -= self.attack_power\n",
        "        print(f\"{target.name}'s health is now {target.health}\")\n",
        "\n",
        "# Create instances of Hero class\n",
        "hero1 = Hero(\"Hero1\", 100, 20)  # Giving Hero1 an attack power of 20\n",
        "hero2 = Hero(\"Hero2\", 100, 15)  # Giving Hero2 an attack power of 15"
      ],
      "metadata": {
        "id": "4v7s340QC80x"
      },
      "execution_count": 27,
      "outputs": []
    },
    {
      "cell_type": "code",
      "source": [
        "hero2.__dict__"
      ],
      "metadata": {
        "colab": {
          "base_uri": "https://localhost:8080/"
        },
        "id": "TTg-Y0RpDa_G",
        "outputId": "23ee66ca-6177-4981-e372-5489d844261a"
      },
      "execution_count": 28,
      "outputs": [
        {
          "output_type": "execute_result",
          "data": {
            "text/plain": [
              "{'name': 'Hero2', 'health': 100, 'attack_power': 15}"
            ]
          },
          "metadata": {},
          "execution_count": 28
        }
      ]
    },
    {
      "cell_type": "code",
      "source": [
        "# Perform an attack\n",
        "hero1.attack(hero2)"
      ],
      "metadata": {
        "colab": {
          "base_uri": "https://localhost:8080/"
        },
        "id": "rmgE1_Q2Dp2i",
        "outputId": "281fd597-2313-4069-ed3a-9cd1ede91b86"
      },
      "execution_count": 29,
      "outputs": [
        {
          "output_type": "stream",
          "name": "stdout",
          "text": [
            "Hero1 attacks Hero2!\n",
            "Hero2's health is now 80\n"
          ]
        }
      ]
    }
  ]
}